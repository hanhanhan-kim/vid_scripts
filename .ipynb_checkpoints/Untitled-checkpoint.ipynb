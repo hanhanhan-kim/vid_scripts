{
 "cells": [
  {
   "cell_type": "code",
   "execution_count": 2,
   "metadata": {},
   "outputs": [],
   "source": [
    "#!/home/platyusa/.virtualenvs/cinema/bin/python\n",
    "\n",
    "import motmot.FlyMovieFormat.FlyMovieFormat as FMF\n",
    "import skimage.io \n",
    "import tqdm\n",
    "import os\n",
    "import glob\n",
    "from ffmpy import FFmpeg\n",
    "\n",
    "\n",
    "def mkdirs4tiffs (names):\n",
    "    '''\n",
    "    Makes an empty directory for each .fmf video. \n",
    "    \n",
    "    Parameters:\n",
    "    names (list): a list of the .fmf files to be converted\n",
    "    \n",
    "    Returns:\n",
    "    Empty directories for each .fmf video. Can undo in terminal by navigating to `vid_path` and executing `rm -r */` \n",
    "    '''\n",
    "    # Each directory will have the same name as the .fmf video:\n",
    "    folders = []\n",
    "    for name in names:\n",
    "        folders.append(name.replace('.fmf',''))\n",
    "\n",
    "    # Make the directories:\n",
    "    for folder in folders:\n",
    "        os.mkdir(os.path.join(folder))\n",
    "\n",
    "\n",
    "def get_FrameRate_TimeLength (names):\n",
    "    '''\n",
    "    Get the frame rate and length of video (secs) from a list of .fmf videos.\n",
    "    \n",
    "    Parameters:\n",
    "    names (list): a list of the .fmf files to be converted\n",
    "    \n",
    "    Returns:\n",
    "    Empty directories for each .fmf video. Can undo in terminal by navigating to `vid_path` and executing `rm -r */` \n",
    "    '''\n",
    "    fmfs = []\n",
    "    \n",
    "    for name in names:\n",
    "        \n",
    "        # Make a list of fmf objects:\n",
    "        fmfs.append(FMF.FlyMovie(name))\n",
    "        \n",
    "        # Get an fmf from the fmfs\n",
    "        fmf = fmfs[names.index(name)]\n",
    "    \n",
    "        vidSize = fmf.get_n_frames()\n",
    "        tmStmps = fmf.get_all_timestamps()\n",
    "\n",
    "        timeLen = tmStmps[-1] - tmStmps[0]\n",
    "\n",
    "        #frameRate in frames per second\n",
    "        frameRate = vidSize/timeLen\n",
    "    \n",
    "        print(str(frameRate)+ ' is frame rate and ' + str(timeLen) + ' is length of video (s)')\n",
    "\n",
    "        \n",
    "def fmf2tiff (names):\n",
    "    \n",
    "    '''\n",
    "    Converts a list of .fmf files to .tiff files so they can be converted to mp4s. Can batch process multiple .fmf videos into multiple \n",
    "    \n",
    "    Parameters:\n",
    "    names (list): a list of the .fmf files to be converted\n",
    "    \n",
    "    Returns:\n",
    "    A directory of .tiff files, where each directory corresponds to an .fmf object. Can undo in terminal by navigating to `vid_path` and executing `rm -r */`\n",
    "    \n",
    "    '''\n",
    "    \n",
    "    fmfs = []\n",
    "    \n",
    "    for name in names:\n",
    "        \n",
    "        # Make a list of fmf objects:\n",
    "        fmfs.append(FMF.FlyMovie(name))\n",
    "        \n",
    "        # Get an fmf from the fmfs:\n",
    "        fmf = fmfs[names.index(name)]\n",
    "        # For each fmf, convert it to a series of .tiffs and store the series in its respective directory:\n",
    "        i = 0\n",
    "        for im in tqdm.notebook.tqdm(range(len(fmf.get_all_timestamps()))):\n",
    "            skimage.io.imsave(arr=fmf.get_frame(i)[0], fname=name.replace('.fmf','') + '/' +\n",
    "                          str(format(i, '08d')) + '.tiff')\n",
    "            i += 1\n",
    "\n",
    "\n",
    "def tiff2mp4 (names):\n",
    "    \n",
    "    '''\n",
    "    Converts .tiffs located in a directory into an .mp4 file. Can batch process multiple directories of .tiffs into multiple respective .mp4 files.\n",
    "    \n",
    "    Paramters:\n",
    "    names (list): a list of the .fmf files to be converted.\n",
    "    \n",
    "    Returns:\n",
    "    .mp4 files in the same directory as the .fmf files. Can undo in terminal by navigating to `vid_path` and executing `rm *.!(fmf)` \n",
    "    \n",
    "    '''\n",
    "    \n",
    "    inPaths = []\n",
    "    outPaths = []\n",
    "    \n",
    "    fmfs = []\n",
    "    \n",
    "    for name in names:\n",
    "        \n",
    "        # Compute the exact frame rate of each video to input into the FFmpeg conversions\n",
    "        fmfs.append(FMF.FlyMovie(name))\n",
    "        fmf = fmfs[names.index(name)]\n",
    "        vidSize = fmf.get_n_frames()\n",
    "        tmStmps = fmf.get_all_timestamps()\n",
    "        timeLen = tmStmps[-1] - tmStmps[0]\n",
    "        frameRate = vidSize/timeLen\n",
    "        \n",
    "        # FFmpeg conversions\n",
    "        inPaths.append(name.replace('.fmf','/%08d.tiff'))\n",
    "        outPaths.append(name.replace('.fmf','.mp4'))\n",
    "        \n",
    "        ff = FFmpeg(\n",
    "            inputs={inPaths[names.index(name)]: '-r '+ str(frameRate)+' -f image2'},\n",
    "            outputs={outPaths[names.index(name)]: '-crf 25 -pix_fmt yuv420p'}\n",
    "        )\n",
    "        ff.run()\n",
    "\n",
    "\n",
    "def main():\n",
    "    # Specify the absolute path that has the .fmf files:\n",
    "    vid_path = '/home/platyusa/Videos/calib_1/'\n",
    "\n",
    "    # Get the list of .fmf files to be converted:\n",
    "    names = sorted(glob.glob(vid_path + '*.fmf'))\n",
    "\n",
    "    # Convert:\n",
    "    mkdirs4tiffs(names)\n",
    "    get_FrameRate_TimeLength(names)\n",
    "    fmf2tiff(names)\n",
    "    tiff2mp4(names)"
   ]
  },
  {
   "cell_type": "code",
   "execution_count": 3,
   "metadata": {},
   "outputs": [],
   "source": [
    "vid_path = '/home/platyusa/Videos/calib_1/'\n",
    "\n",
    "# Get the list of .fmf files to be converted:\n",
    "names = sorted(glob.glob(vid_path + '*.fmf'))\n",
    "\n",
    "# Convert:\n",
    "mkdirs4tiffs(names)"
   ]
  },
  {
   "cell_type": "code",
   "execution_count": 4,
   "metadata": {},
   "outputs": [
    {
     "name": "stdout",
     "output_type": "stream",
     "text": [
      "100.10178013333318 is frame rate and 60.058871999999994 is length of video (s)\n",
      "100.10149179028738 is frame rate and 60.059045 is length of video (s)\n",
      "100.10217848281695 is frame rate and 60.058633 is length of video (s)\n",
      "100.10147345639265 is frame rate and 60.059056 is length of video (s)\n",
      "100.10162846135056 is frame rate and 60.058963 is length of video (s)\n"
     ]
    }
   ],
   "source": [
    "get_FrameRate_TimeLength(names)"
   ]
  },
  {
   "cell_type": "code",
   "execution_count": null,
   "metadata": {},
   "outputs": [
    {
     "name": "stderr",
     "output_type": "stream",
     "text": [
      "/home/platyusa/.virtualenvs/cinema/lib/python3.6/site-packages/ipykernel_launcher.py:85: TqdmDeprecationWarning: This function will be removed in tqdm==5.0.0\n",
      "Please use `tqdm.notebook.tqdm` instead of `tqdm.tqdm_notebook`\n"
     ]
    },
    {
     "data": {
      "application/vnd.jupyter.widget-view+json": {
       "model_id": "705933ca8f774892b4273f1120f5109b",
       "version_major": 2,
       "version_minor": 0
      },
      "text/plain": [
       "HBox(children=(FloatProgress(value=0.0, max=6012.0), HTML(value='')))"
      ]
     },
     "metadata": {},
     "output_type": "display_data"
    },
    {
     "name": "stdout",
     "output_type": "stream",
     "text": [
      "\n"
     ]
    },
    {
     "data": {
      "application/vnd.jupyter.widget-view+json": {
       "model_id": "96d9c498e3e842a7bfd45204f5391c6b",
       "version_major": 2,
       "version_minor": 0
      },
      "text/plain": [
       "HBox(children=(FloatProgress(value=0.0, max=6012.0), HTML(value='')))"
      ]
     },
     "metadata": {},
     "output_type": "display_data"
    },
    {
     "name": "stdout",
     "output_type": "stream",
     "text": [
      "\n"
     ]
    },
    {
     "data": {
      "application/vnd.jupyter.widget-view+json": {
       "model_id": "2199181e7cf84b7ca4a33a5303bf16b2",
       "version_major": 2,
       "version_minor": 0
      },
      "text/plain": [
       "HBox(children=(FloatProgress(value=0.0, max=6012.0), HTML(value='')))"
      ]
     },
     "metadata": {},
     "output_type": "display_data"
    },
    {
     "name": "stderr",
     "output_type": "stream",
     "text": [
      "/home/platyusa/.virtualenvs/cinema/lib/python3.6/site-packages/ipykernel_launcher.py:87: UserWarning: /home/platyusa/Videos/calib_1/dal_liom_guid_19061101_2020_02_06_23_26_20/00002338.tiff is a low contrast image\n",
      "/home/platyusa/.virtualenvs/cinema/lib/python3.6/site-packages/ipykernel_launcher.py:87: UserWarning: /home/platyusa/Videos/calib_1/dal_liom_guid_19061101_2020_02_06_23_26_20/00002339.tiff is a low contrast image\n",
      "/home/platyusa/.virtualenvs/cinema/lib/python3.6/site-packages/ipykernel_launcher.py:87: UserWarning: /home/platyusa/Videos/calib_1/dal_liom_guid_19061101_2020_02_06_23_26_20/00002341.tiff is a low contrast image\n",
      "/home/platyusa/.virtualenvs/cinema/lib/python3.6/site-packages/ipykernel_launcher.py:87: UserWarning: /home/platyusa/Videos/calib_1/dal_liom_guid_19061101_2020_02_06_23_26_20/00002344.tiff is a low contrast image\n",
      "/home/platyusa/.virtualenvs/cinema/lib/python3.6/site-packages/ipykernel_launcher.py:87: UserWarning: /home/platyusa/Videos/calib_1/dal_liom_guid_19061101_2020_02_06_23_26_20/00002345.tiff is a low contrast image\n",
      "/home/platyusa/.virtualenvs/cinema/lib/python3.6/site-packages/ipykernel_launcher.py:87: UserWarning: /home/platyusa/Videos/calib_1/dal_liom_guid_19061101_2020_02_06_23_26_20/00002380.tiff is a low contrast image\n",
      "/home/platyusa/.virtualenvs/cinema/lib/python3.6/site-packages/ipykernel_launcher.py:87: UserWarning: /home/platyusa/Videos/calib_1/dal_liom_guid_19061101_2020_02_06_23_26_20/00002858.tiff is a low contrast image\n",
      "/home/platyusa/.virtualenvs/cinema/lib/python3.6/site-packages/ipykernel_launcher.py:87: UserWarning: /home/platyusa/Videos/calib_1/dal_liom_guid_19061101_2020_02_06_23_26_20/00002859.tiff is a low contrast image\n",
      "/home/platyusa/.virtualenvs/cinema/lib/python3.6/site-packages/ipykernel_launcher.py:87: UserWarning: /home/platyusa/Videos/calib_1/dal_liom_guid_19061101_2020_02_06_23_26_20/00002860.tiff is a low contrast image\n",
      "/home/platyusa/.virtualenvs/cinema/lib/python3.6/site-packages/ipykernel_launcher.py:87: UserWarning: /home/platyusa/Videos/calib_1/dal_liom_guid_19061101_2020_02_06_23_26_20/00002861.tiff is a low contrast image\n",
      "/home/platyusa/.virtualenvs/cinema/lib/python3.6/site-packages/ipykernel_launcher.py:87: UserWarning: /home/platyusa/Videos/calib_1/dal_liom_guid_19061101_2020_02_06_23_26_20/00002862.tiff is a low contrast image\n",
      "/home/platyusa/.virtualenvs/cinema/lib/python3.6/site-packages/ipykernel_launcher.py:87: UserWarning: /home/platyusa/Videos/calib_1/dal_liom_guid_19061101_2020_02_06_23_26_20/00002863.tiff is a low contrast image\n",
      "/home/platyusa/.virtualenvs/cinema/lib/python3.6/site-packages/ipykernel_launcher.py:87: UserWarning: /home/platyusa/Videos/calib_1/dal_liom_guid_19061101_2020_02_06_23_26_20/00002864.tiff is a low contrast image\n",
      "/home/platyusa/.virtualenvs/cinema/lib/python3.6/site-packages/ipykernel_launcher.py:87: UserWarning: /home/platyusa/Videos/calib_1/dal_liom_guid_19061101_2020_02_06_23_26_20/00002865.tiff is a low contrast image\n",
      "/home/platyusa/.virtualenvs/cinema/lib/python3.6/site-packages/ipykernel_launcher.py:87: UserWarning: /home/platyusa/Videos/calib_1/dal_liom_guid_19061101_2020_02_06_23_26_20/00002866.tiff is a low contrast image\n",
      "/home/platyusa/.virtualenvs/cinema/lib/python3.6/site-packages/ipykernel_launcher.py:87: UserWarning: /home/platyusa/Videos/calib_1/dal_liom_guid_19061101_2020_02_06_23_26_20/00002867.tiff is a low contrast image\n",
      "/home/platyusa/.virtualenvs/cinema/lib/python3.6/site-packages/ipykernel_launcher.py:87: UserWarning: /home/platyusa/Videos/calib_1/dal_liom_guid_19061101_2020_02_06_23_26_20/00002868.tiff is a low contrast image\n",
      "/home/platyusa/.virtualenvs/cinema/lib/python3.6/site-packages/ipykernel_launcher.py:87: UserWarning: /home/platyusa/Videos/calib_1/dal_liom_guid_19061101_2020_02_06_23_26_20/00002869.tiff is a low contrast image\n",
      "/home/platyusa/.virtualenvs/cinema/lib/python3.6/site-packages/ipykernel_launcher.py:87: UserWarning: /home/platyusa/Videos/calib_1/dal_liom_guid_19061101_2020_02_06_23_26_20/00002870.tiff is a low contrast image\n",
      "/home/platyusa/.virtualenvs/cinema/lib/python3.6/site-packages/ipykernel_launcher.py:87: UserWarning: /home/platyusa/Videos/calib_1/dal_liom_guid_19061101_2020_02_06_23_26_20/00002871.tiff is a low contrast image\n",
      "/home/platyusa/.virtualenvs/cinema/lib/python3.6/site-packages/ipykernel_launcher.py:87: UserWarning: /home/platyusa/Videos/calib_1/dal_liom_guid_19061101_2020_02_06_23_26_20/00002872.tiff is a low contrast image\n",
      "/home/platyusa/.virtualenvs/cinema/lib/python3.6/site-packages/ipykernel_launcher.py:87: UserWarning: /home/platyusa/Videos/calib_1/dal_liom_guid_19061101_2020_02_06_23_26_20/00002873.tiff is a low contrast image\n",
      "/home/platyusa/.virtualenvs/cinema/lib/python3.6/site-packages/ipykernel_launcher.py:87: UserWarning: /home/platyusa/Videos/calib_1/dal_liom_guid_19061101_2020_02_06_23_26_20/00002874.tiff is a low contrast image\n",
      "/home/platyusa/.virtualenvs/cinema/lib/python3.6/site-packages/ipykernel_launcher.py:87: UserWarning: /home/platyusa/Videos/calib_1/dal_liom_guid_19061101_2020_02_06_23_26_20/00002875.tiff is a low contrast image\n",
      "/home/platyusa/.virtualenvs/cinema/lib/python3.6/site-packages/ipykernel_launcher.py:87: UserWarning: /home/platyusa/Videos/calib_1/dal_liom_guid_19061101_2020_02_06_23_26_20/00002876.tiff is a low contrast image\n",
      "/home/platyusa/.virtualenvs/cinema/lib/python3.6/site-packages/ipykernel_launcher.py:87: UserWarning: /home/platyusa/Videos/calib_1/dal_liom_guid_19061101_2020_02_06_23_26_20/00002877.tiff is a low contrast image\n",
      "/home/platyusa/.virtualenvs/cinema/lib/python3.6/site-packages/ipykernel_launcher.py:87: UserWarning: /home/platyusa/Videos/calib_1/dal_liom_guid_19061101_2020_02_06_23_26_20/00002878.tiff is a low contrast image\n",
      "/home/platyusa/.virtualenvs/cinema/lib/python3.6/site-packages/ipykernel_launcher.py:87: UserWarning: /home/platyusa/Videos/calib_1/dal_liom_guid_19061101_2020_02_06_23_26_20/00002879.tiff is a low contrast image\n",
      "/home/platyusa/.virtualenvs/cinema/lib/python3.6/site-packages/ipykernel_launcher.py:87: UserWarning: /home/platyusa/Videos/calib_1/dal_liom_guid_19061101_2020_02_06_23_26_20/00002880.tiff is a low contrast image\n",
      "/home/platyusa/.virtualenvs/cinema/lib/python3.6/site-packages/ipykernel_launcher.py:87: UserWarning: /home/platyusa/Videos/calib_1/dal_liom_guid_19061101_2020_02_06_23_26_20/00003015.tiff is a low contrast image\n",
      "/home/platyusa/.virtualenvs/cinema/lib/python3.6/site-packages/ipykernel_launcher.py:87: UserWarning: /home/platyusa/Videos/calib_1/dal_liom_guid_19061101_2020_02_06_23_26_20/00003016.tiff is a low contrast image\n",
      "/home/platyusa/.virtualenvs/cinema/lib/python3.6/site-packages/ipykernel_launcher.py:87: UserWarning: /home/platyusa/Videos/calib_1/dal_liom_guid_19061101_2020_02_06_23_26_20/00003017.tiff is a low contrast image\n",
      "/home/platyusa/.virtualenvs/cinema/lib/python3.6/site-packages/ipykernel_launcher.py:87: UserWarning: /home/platyusa/Videos/calib_1/dal_liom_guid_19061101_2020_02_06_23_26_20/00003018.tiff is a low contrast image\n",
      "/home/platyusa/.virtualenvs/cinema/lib/python3.6/site-packages/ipykernel_launcher.py:87: UserWarning: /home/platyusa/Videos/calib_1/dal_liom_guid_19061101_2020_02_06_23_26_20/00003019.tiff is a low contrast image\n",
      "/home/platyusa/.virtualenvs/cinema/lib/python3.6/site-packages/ipykernel_launcher.py:87: UserWarning: /home/platyusa/Videos/calib_1/dal_liom_guid_19061101_2020_02_06_23_26_20/00003020.tiff is a low contrast image\n",
      "/home/platyusa/.virtualenvs/cinema/lib/python3.6/site-packages/ipykernel_launcher.py:87: UserWarning: /home/platyusa/Videos/calib_1/dal_liom_guid_19061101_2020_02_06_23_26_20/00003021.tiff is a low contrast image\n",
      "/home/platyusa/.virtualenvs/cinema/lib/python3.6/site-packages/ipykernel_launcher.py:87: UserWarning: /home/platyusa/Videos/calib_1/dal_liom_guid_19061101_2020_02_06_23_26_20/00003022.tiff is a low contrast image\n",
      "/home/platyusa/.virtualenvs/cinema/lib/python3.6/site-packages/ipykernel_launcher.py:87: UserWarning: /home/platyusa/Videos/calib_1/dal_liom_guid_19061101_2020_02_06_23_26_20/00003023.tiff is a low contrast image\n",
      "/home/platyusa/.virtualenvs/cinema/lib/python3.6/site-packages/ipykernel_launcher.py:87: UserWarning: /home/platyusa/Videos/calib_1/dal_liom_guid_19061101_2020_02_06_23_26_20/00003024.tiff is a low contrast image\n",
      "/home/platyusa/.virtualenvs/cinema/lib/python3.6/site-packages/ipykernel_launcher.py:87: UserWarning: /home/platyusa/Videos/calib_1/dal_liom_guid_19061101_2020_02_06_23_26_20/00003025.tiff is a low contrast image\n",
      "/home/platyusa/.virtualenvs/cinema/lib/python3.6/site-packages/ipykernel_launcher.py:87: UserWarning: /home/platyusa/Videos/calib_1/dal_liom_guid_19061101_2020_02_06_23_26_20/00003026.tiff is a low contrast image\n",
      "/home/platyusa/.virtualenvs/cinema/lib/python3.6/site-packages/ipykernel_launcher.py:87: UserWarning: /home/platyusa/Videos/calib_1/dal_liom_guid_19061101_2020_02_06_23_26_20/00003027.tiff is a low contrast image\n",
      "/home/platyusa/.virtualenvs/cinema/lib/python3.6/site-packages/ipykernel_launcher.py:87: UserWarning: /home/platyusa/Videos/calib_1/dal_liom_guid_19061101_2020_02_06_23_26_20/00003028.tiff is a low contrast image\n",
      "/home/platyusa/.virtualenvs/cinema/lib/python3.6/site-packages/ipykernel_launcher.py:87: UserWarning: /home/platyusa/Videos/calib_1/dal_liom_guid_19061101_2020_02_06_23_26_20/00003029.tiff is a low contrast image\n",
      "/home/platyusa/.virtualenvs/cinema/lib/python3.6/site-packages/ipykernel_launcher.py:87: UserWarning: /home/platyusa/Videos/calib_1/dal_liom_guid_19061101_2020_02_06_23_26_20/00003030.tiff is a low contrast image\n",
      "/home/platyusa/.virtualenvs/cinema/lib/python3.6/site-packages/ipykernel_launcher.py:87: UserWarning: /home/platyusa/Videos/calib_1/dal_liom_guid_19061101_2020_02_06_23_26_20/00003031.tiff is a low contrast image\n",
      "/home/platyusa/.virtualenvs/cinema/lib/python3.6/site-packages/ipykernel_launcher.py:87: UserWarning: /home/platyusa/Videos/calib_1/dal_liom_guid_19061101_2020_02_06_23_26_20/00003032.tiff is a low contrast image\n",
      "/home/platyusa/.virtualenvs/cinema/lib/python3.6/site-packages/ipykernel_launcher.py:87: UserWarning: /home/platyusa/Videos/calib_1/dal_liom_guid_19061101_2020_02_06_23_26_20/00003033.tiff is a low contrast image\n",
      "/home/platyusa/.virtualenvs/cinema/lib/python3.6/site-packages/ipykernel_launcher.py:87: UserWarning: /home/platyusa/Videos/calib_1/dal_liom_guid_19061101_2020_02_06_23_26_20/00003034.tiff is a low contrast image\n",
      "/home/platyusa/.virtualenvs/cinema/lib/python3.6/site-packages/ipykernel_launcher.py:87: UserWarning: /home/platyusa/Videos/calib_1/dal_liom_guid_19061101_2020_02_06_23_26_20/00003035.tiff is a low contrast image\n",
      "/home/platyusa/.virtualenvs/cinema/lib/python3.6/site-packages/ipykernel_launcher.py:87: UserWarning: /home/platyusa/Videos/calib_1/dal_liom_guid_19061101_2020_02_06_23_26_20/00003036.tiff is a low contrast image\n",
      "/home/platyusa/.virtualenvs/cinema/lib/python3.6/site-packages/ipykernel_launcher.py:87: UserWarning: /home/platyusa/Videos/calib_1/dal_liom_guid_19061101_2020_02_06_23_26_20/00003037.tiff is a low contrast image\n",
      "/home/platyusa/.virtualenvs/cinema/lib/python3.6/site-packages/ipykernel_launcher.py:87: UserWarning: /home/platyusa/Videos/calib_1/dal_liom_guid_19061101_2020_02_06_23_26_20/00003049.tiff is a low contrast image\n",
      "/home/platyusa/.virtualenvs/cinema/lib/python3.6/site-packages/ipykernel_launcher.py:87: UserWarning: /home/platyusa/Videos/calib_1/dal_liom_guid_19061101_2020_02_06_23_26_20/00003050.tiff is a low contrast image\n"
     ]
    },
    {
     "name": "stderr",
     "output_type": "stream",
     "text": [
      "/home/platyusa/.virtualenvs/cinema/lib/python3.6/site-packages/ipykernel_launcher.py:87: UserWarning: /home/platyusa/Videos/calib_1/dal_liom_guid_19061101_2020_02_06_23_26_20/00004051.tiff is a low contrast image\n",
      "/home/platyusa/.virtualenvs/cinema/lib/python3.6/site-packages/ipykernel_launcher.py:87: UserWarning: /home/platyusa/Videos/calib_1/dal_liom_guid_19061101_2020_02_06_23_26_20/00004052.tiff is a low contrast image\n",
      "/home/platyusa/.virtualenvs/cinema/lib/python3.6/site-packages/ipykernel_launcher.py:87: UserWarning: /home/platyusa/Videos/calib_1/dal_liom_guid_19061101_2020_02_06_23_26_20/00004053.tiff is a low contrast image\n",
      "/home/platyusa/.virtualenvs/cinema/lib/python3.6/site-packages/ipykernel_launcher.py:87: UserWarning: /home/platyusa/Videos/calib_1/dal_liom_guid_19061101_2020_02_06_23_26_20/00004054.tiff is a low contrast image\n",
      "/home/platyusa/.virtualenvs/cinema/lib/python3.6/site-packages/ipykernel_launcher.py:87: UserWarning: /home/platyusa/Videos/calib_1/dal_liom_guid_19061101_2020_02_06_23_26_20/00004055.tiff is a low contrast image\n",
      "/home/platyusa/.virtualenvs/cinema/lib/python3.6/site-packages/ipykernel_launcher.py:87: UserWarning: /home/platyusa/Videos/calib_1/dal_liom_guid_19061101_2020_02_06_23_26_20/00004056.tiff is a low contrast image\n",
      "/home/platyusa/.virtualenvs/cinema/lib/python3.6/site-packages/ipykernel_launcher.py:87: UserWarning: /home/platyusa/Videos/calib_1/dal_liom_guid_19061101_2020_02_06_23_26_20/00004057.tiff is a low contrast image\n",
      "/home/platyusa/.virtualenvs/cinema/lib/python3.6/site-packages/ipykernel_launcher.py:87: UserWarning: /home/platyusa/Videos/calib_1/dal_liom_guid_19061101_2020_02_06_23_26_20/00004058.tiff is a low contrast image\n",
      "/home/platyusa/.virtualenvs/cinema/lib/python3.6/site-packages/ipykernel_launcher.py:87: UserWarning: /home/platyusa/Videos/calib_1/dal_liom_guid_19061101_2020_02_06_23_26_20/00004059.tiff is a low contrast image\n",
      "/home/platyusa/.virtualenvs/cinema/lib/python3.6/site-packages/ipykernel_launcher.py:87: UserWarning: /home/platyusa/Videos/calib_1/dal_liom_guid_19061101_2020_02_06_23_26_20/00004060.tiff is a low contrast image\n",
      "/home/platyusa/.virtualenvs/cinema/lib/python3.6/site-packages/ipykernel_launcher.py:87: UserWarning: /home/platyusa/Videos/calib_1/dal_liom_guid_19061101_2020_02_06_23_26_20/00004061.tiff is a low contrast image\n",
      "/home/platyusa/.virtualenvs/cinema/lib/python3.6/site-packages/ipykernel_launcher.py:87: UserWarning: /home/platyusa/Videos/calib_1/dal_liom_guid_19061101_2020_02_06_23_26_20/00004062.tiff is a low contrast image\n",
      "/home/platyusa/.virtualenvs/cinema/lib/python3.6/site-packages/ipykernel_launcher.py:87: UserWarning: /home/platyusa/Videos/calib_1/dal_liom_guid_19061101_2020_02_06_23_26_20/00004063.tiff is a low contrast image\n",
      "/home/platyusa/.virtualenvs/cinema/lib/python3.6/site-packages/ipykernel_launcher.py:87: UserWarning: /home/platyusa/Videos/calib_1/dal_liom_guid_19061101_2020_02_06_23_26_20/00004064.tiff is a low contrast image\n",
      "/home/platyusa/.virtualenvs/cinema/lib/python3.6/site-packages/ipykernel_launcher.py:87: UserWarning: /home/platyusa/Videos/calib_1/dal_liom_guid_19061101_2020_02_06_23_26_20/00004065.tiff is a low contrast image\n",
      "/home/platyusa/.virtualenvs/cinema/lib/python3.6/site-packages/ipykernel_launcher.py:87: UserWarning: /home/platyusa/Videos/calib_1/dal_liom_guid_19061101_2020_02_06_23_26_20/00004066.tiff is a low contrast image\n",
      "/home/platyusa/.virtualenvs/cinema/lib/python3.6/site-packages/ipykernel_launcher.py:87: UserWarning: /home/platyusa/Videos/calib_1/dal_liom_guid_19061101_2020_02_06_23_26_20/00004067.tiff is a low contrast image\n",
      "/home/platyusa/.virtualenvs/cinema/lib/python3.6/site-packages/ipykernel_launcher.py:87: UserWarning: /home/platyusa/Videos/calib_1/dal_liom_guid_19061101_2020_02_06_23_26_20/00004068.tiff is a low contrast image\n",
      "/home/platyusa/.virtualenvs/cinema/lib/python3.6/site-packages/ipykernel_launcher.py:87: UserWarning: /home/platyusa/Videos/calib_1/dal_liom_guid_19061101_2020_02_06_23_26_20/00004069.tiff is a low contrast image\n",
      "/home/platyusa/.virtualenvs/cinema/lib/python3.6/site-packages/ipykernel_launcher.py:87: UserWarning: /home/platyusa/Videos/calib_1/dal_liom_guid_19061101_2020_02_06_23_26_20/00004070.tiff is a low contrast image\n",
      "/home/platyusa/.virtualenvs/cinema/lib/python3.6/site-packages/ipykernel_launcher.py:87: UserWarning: /home/platyusa/Videos/calib_1/dal_liom_guid_19061101_2020_02_06_23_26_20/00004071.tiff is a low contrast image\n",
      "/home/platyusa/.virtualenvs/cinema/lib/python3.6/site-packages/ipykernel_launcher.py:87: UserWarning: /home/platyusa/Videos/calib_1/dal_liom_guid_19061101_2020_02_06_23_26_20/00004072.tiff is a low contrast image\n",
      "/home/platyusa/.virtualenvs/cinema/lib/python3.6/site-packages/ipykernel_launcher.py:87: UserWarning: /home/platyusa/Videos/calib_1/dal_liom_guid_19061101_2020_02_06_23_26_20/00004073.tiff is a low contrast image\n",
      "/home/platyusa/.virtualenvs/cinema/lib/python3.6/site-packages/ipykernel_launcher.py:87: UserWarning: /home/platyusa/Videos/calib_1/dal_liom_guid_19061101_2020_02_06_23_26_20/00004074.tiff is a low contrast image\n",
      "/home/platyusa/.virtualenvs/cinema/lib/python3.6/site-packages/ipykernel_launcher.py:87: UserWarning: /home/platyusa/Videos/calib_1/dal_liom_guid_19061101_2020_02_06_23_26_20/00004075.tiff is a low contrast image\n",
      "/home/platyusa/.virtualenvs/cinema/lib/python3.6/site-packages/ipykernel_launcher.py:87: UserWarning: /home/platyusa/Videos/calib_1/dal_liom_guid_19061101_2020_02_06_23_26_20/00004076.tiff is a low contrast image\n",
      "/home/platyusa/.virtualenvs/cinema/lib/python3.6/site-packages/ipykernel_launcher.py:87: UserWarning: /home/platyusa/Videos/calib_1/dal_liom_guid_19061101_2020_02_06_23_26_20/00004077.tiff is a low contrast image\n",
      "/home/platyusa/.virtualenvs/cinema/lib/python3.6/site-packages/ipykernel_launcher.py:87: UserWarning: /home/platyusa/Videos/calib_1/dal_liom_guid_19061101_2020_02_06_23_26_20/00004078.tiff is a low contrast image\n",
      "/home/platyusa/.virtualenvs/cinema/lib/python3.6/site-packages/ipykernel_launcher.py:87: UserWarning: /home/platyusa/Videos/calib_1/dal_liom_guid_19061101_2020_02_06_23_26_20/00004079.tiff is a low contrast image\n",
      "/home/platyusa/.virtualenvs/cinema/lib/python3.6/site-packages/ipykernel_launcher.py:87: UserWarning: /home/platyusa/Videos/calib_1/dal_liom_guid_19061101_2020_02_06_23_26_20/00004080.tiff is a low contrast image\n",
      "/home/platyusa/.virtualenvs/cinema/lib/python3.6/site-packages/ipykernel_launcher.py:87: UserWarning: /home/platyusa/Videos/calib_1/dal_liom_guid_19061101_2020_02_06_23_26_20/00004081.tiff is a low contrast image\n",
      "/home/platyusa/.virtualenvs/cinema/lib/python3.6/site-packages/ipykernel_launcher.py:87: UserWarning: /home/platyusa/Videos/calib_1/dal_liom_guid_19061101_2020_02_06_23_26_20/00004082.tiff is a low contrast image\n"
     ]
    },
    {
     "name": "stdout",
     "output_type": "stream",
     "text": [
      "\n"
     ]
    },
    {
     "data": {
      "application/vnd.jupyter.widget-view+json": {
       "model_id": "5dd4f2dd8efa42bba4cc63628cdda4a6",
       "version_major": 2,
       "version_minor": 0
      },
      "text/plain": [
       "HBox(children=(FloatProgress(value=0.0, max=6012.0), HTML(value='')))"
      ]
     },
     "metadata": {},
     "output_type": "display_data"
    },
    {
     "name": "stderr",
     "output_type": "stream",
     "text": [
      "/home/platyusa/.virtualenvs/cinema/lib/python3.6/site-packages/ipykernel_launcher.py:87: UserWarning: /home/platyusa/Videos/calib_1/dal_liom_guid_19061600_2020_02_06_23_26_22/00001306.tiff is a low contrast image\n",
      "/home/platyusa/.virtualenvs/cinema/lib/python3.6/site-packages/ipykernel_launcher.py:87: UserWarning: /home/platyusa/Videos/calib_1/dal_liom_guid_19061600_2020_02_06_23_26_22/00001307.tiff is a low contrast image\n",
      "/home/platyusa/.virtualenvs/cinema/lib/python3.6/site-packages/ipykernel_launcher.py:87: UserWarning: /home/platyusa/Videos/calib_1/dal_liom_guid_19061600_2020_02_06_23_26_22/00001308.tiff is a low contrast image\n",
      "/home/platyusa/.virtualenvs/cinema/lib/python3.6/site-packages/ipykernel_launcher.py:87: UserWarning: /home/platyusa/Videos/calib_1/dal_liom_guid_19061600_2020_02_06_23_26_22/00001309.tiff is a low contrast image\n",
      "/home/platyusa/.virtualenvs/cinema/lib/python3.6/site-packages/ipykernel_launcher.py:87: UserWarning: /home/platyusa/Videos/calib_1/dal_liom_guid_19061600_2020_02_06_23_26_22/00001310.tiff is a low contrast image\n",
      "/home/platyusa/.virtualenvs/cinema/lib/python3.6/site-packages/ipykernel_launcher.py:87: UserWarning: /home/platyusa/Videos/calib_1/dal_liom_guid_19061600_2020_02_06_23_26_22/00001311.tiff is a low contrast image\n",
      "/home/platyusa/.virtualenvs/cinema/lib/python3.6/site-packages/ipykernel_launcher.py:87: UserWarning: /home/platyusa/Videos/calib_1/dal_liom_guid_19061600_2020_02_06_23_26_22/00001312.tiff is a low contrast image\n",
      "/home/platyusa/.virtualenvs/cinema/lib/python3.6/site-packages/ipykernel_launcher.py:87: UserWarning: /home/platyusa/Videos/calib_1/dal_liom_guid_19061600_2020_02_06_23_26_22/00001313.tiff is a low contrast image\n",
      "/home/platyusa/.virtualenvs/cinema/lib/python3.6/site-packages/ipykernel_launcher.py:87: UserWarning: /home/platyusa/Videos/calib_1/dal_liom_guid_19061600_2020_02_06_23_26_22/00001314.tiff is a low contrast image\n",
      "/home/platyusa/.virtualenvs/cinema/lib/python3.6/site-packages/ipykernel_launcher.py:87: UserWarning: /home/platyusa/Videos/calib_1/dal_liom_guid_19061600_2020_02_06_23_26_22/00001315.tiff is a low contrast image\n",
      "/home/platyusa/.virtualenvs/cinema/lib/python3.6/site-packages/ipykernel_launcher.py:87: UserWarning: /home/platyusa/Videos/calib_1/dal_liom_guid_19061600_2020_02_06_23_26_22/00001316.tiff is a low contrast image\n",
      "/home/platyusa/.virtualenvs/cinema/lib/python3.6/site-packages/ipykernel_launcher.py:87: UserWarning: /home/platyusa/Videos/calib_1/dal_liom_guid_19061600_2020_02_06_23_26_22/00001317.tiff is a low contrast image\n",
      "/home/platyusa/.virtualenvs/cinema/lib/python3.6/site-packages/ipykernel_launcher.py:87: UserWarning: /home/platyusa/Videos/calib_1/dal_liom_guid_19061600_2020_02_06_23_26_22/00001318.tiff is a low contrast image\n",
      "/home/platyusa/.virtualenvs/cinema/lib/python3.6/site-packages/ipykernel_launcher.py:87: UserWarning: /home/platyusa/Videos/calib_1/dal_liom_guid_19061600_2020_02_06_23_26_22/00001319.tiff is a low contrast image\n",
      "/home/platyusa/.virtualenvs/cinema/lib/python3.6/site-packages/ipykernel_launcher.py:87: UserWarning: /home/platyusa/Videos/calib_1/dal_liom_guid_19061600_2020_02_06_23_26_22/00001322.tiff is a low contrast image\n",
      "/home/platyusa/.virtualenvs/cinema/lib/python3.6/site-packages/ipykernel_launcher.py:87: UserWarning: /home/platyusa/Videos/calib_1/dal_liom_guid_19061600_2020_02_06_23_26_22/00001323.tiff is a low contrast image\n"
     ]
    }
   ],
   "source": [
    "fmf2tiff(names)"
   ]
  },
  {
   "cell_type": "code",
   "execution_count": null,
   "metadata": {},
   "outputs": [],
   "source": []
  }
 ],
 "metadata": {
  "kernelspec": {
   "display_name": "Python 3",
   "language": "python",
   "name": "python3"
  },
  "language_info": {
   "codemirror_mode": {
    "name": "ipython",
    "version": 3
   },
   "file_extension": ".py",
   "mimetype": "text/x-python",
   "name": "python",
   "nbconvert_exporter": "python",
   "pygments_lexer": "ipython3",
   "version": "3.6.9"
  }
 },
 "nbformat": 4,
 "nbformat_minor": 4
}
